{
  "nbformat": 4,
  "nbformat_minor": 0,
  "metadata": {
    "colab": {
      "provenance": []
    },
    "kernelspec": {
      "name": "python3",
      "display_name": "Python 3"
    },
    "language_info": {
      "name": "python"
    }
  },
  "cells": [
    {
      "cell_type": "code",
      "execution_count": 1,
      "metadata": {
        "colab": {
          "base_uri": "https://localhost:8080/"
        },
        "id": "czDMtTKUOnn8",
        "outputId": "03c02908-1e41-4ec0-c080-f6b2995bf753"
      },
      "outputs": [
        {
          "output_type": "stream",
          "name": "stdout",
          "text": [
            "Mounted at /content/gdrive\n"
          ]
        }
      ],
      "source": [
        "from google.colab import drive\n",
        "drive.mount('/content/gdrive')"
      ]
    },
    {
      "cell_type": "code",
      "source": [
        "import pandas as pd\n",
        "import numpy as np\n",
        "from sklearn.model_selection import train_test_split\n",
        "from sklearn.linear_model import LinearRegression\n",
        "from sklearn.metrics import accuracy_score\n",
        "from sklearn.preprocessing import LabelEncoder\n",
        "from sklearn.metrics import precision_score, recall_score, f1_score"
      ],
      "metadata": {
        "id": "SgMkcQiMQRrW"
      },
      "execution_count": 111,
      "outputs": []
    },
    {
      "cell_type": "code",
      "source": [
        "dataset_path = '/content/gdrive/MyDrive/raisin/Raisin_Dataset/Raisin_Dataset.xlsx'\n",
        "data = pd.read_excel(dataset_path)"
      ],
      "metadata": {
        "id": "0tc-sfhSQhMd"
      },
      "execution_count": 112,
      "outputs": []
    },
    {
      "cell_type": "markdown",
      "source": [
        "## DISPLAYING THE ATTRIBUTES AND CHECKING NULL VALUES"
      ],
      "metadata": {
        "id": "3mSTfWFGX6YA"
      }
    },
    {
      "cell_type": "code",
      "source": [
        "print(data.head())"
      ],
      "metadata": {
        "colab": {
          "base_uri": "https://localhost:8080/"
        },
        "id": "t94A3MS-R9ZY",
        "outputId": "d6fe0eb9-7b6a-4064-9519-b0e0687f7f06"
      },
      "execution_count": 113,
      "outputs": [
        {
          "output_type": "stream",
          "name": "stdout",
          "text": [
            "    Area  MajorAxisLength  MinorAxisLength  Eccentricity  ConvexArea  \\\n",
            "0  87524       442.246011       253.291155      0.819738       90546   \n",
            "1  75166       406.690687       243.032436      0.801805       78789   \n",
            "2  90856       442.267048       266.328318      0.798354       93717   \n",
            "3  45928       286.540559       208.760042      0.684989       47336   \n",
            "4  79408       352.190770       290.827533      0.564011       81463   \n",
            "\n",
            "     Extent  Perimeter    Class  \n",
            "0  0.758651   1184.040  Kecimen  \n",
            "1  0.684130   1121.786  Kecimen  \n",
            "2  0.637613   1208.575  Kecimen  \n",
            "3  0.699599    844.162  Kecimen  \n",
            "4  0.792772   1073.251  Kecimen  \n"
          ]
        }
      ]
    },
    {
      "cell_type": "code",
      "source": [
        "print(data.tail())"
      ],
      "metadata": {
        "colab": {
          "base_uri": "https://localhost:8080/"
        },
        "id": "jmtLTMJ8SJrl",
        "outputId": "24453a4f-18de-4851-e50b-2def6c8ce53c"
      },
      "execution_count": 114,
      "outputs": [
        {
          "output_type": "stream",
          "name": "stdout",
          "text": [
            "      Area  MajorAxisLength  MinorAxisLength  Eccentricity  ConvexArea  \\\n",
            "895  83248       430.077308       247.838695      0.817263       85839   \n",
            "896  87350       440.735698       259.293149      0.808629       90899   \n",
            "897  99657       431.706981       298.837323      0.721684      106264   \n",
            "898  93523       476.344094       254.176054      0.845739       97653   \n",
            "899  85609       512.081774       215.271976      0.907345       89197   \n",
            "\n",
            "       Extent  Perimeter  Class  \n",
            "895  0.668793   1129.072  Besni  \n",
            "896  0.636476   1214.252  Besni  \n",
            "897  0.741099   1292.828  Besni  \n",
            "898  0.658798   1258.548  Besni  \n",
            "899  0.632020   1272.862  Besni  \n"
          ]
        }
      ]
    },
    {
      "cell_type": "code",
      "source": [
        "missing_values = data.isnull().sum()\n",
        "print(missing_values)"
      ],
      "metadata": {
        "colab": {
          "base_uri": "https://localhost:8080/"
        },
        "id": "1GW8m-K1SUff",
        "outputId": "ea36323d-6aa2-48d6-8721-fb56024bb7b3"
      },
      "execution_count": 115,
      "outputs": [
        {
          "output_type": "stream",
          "name": "stdout",
          "text": [
            "Area               0\n",
            "MajorAxisLength    0\n",
            "MinorAxisLength    0\n",
            "Eccentricity       0\n",
            "ConvexArea         0\n",
            "Extent             0\n",
            "Perimeter          0\n",
            "Class              0\n",
            "dtype: int64\n"
          ]
        }
      ]
    },
    {
      "cell_type": "markdown",
      "source": [
        "#   **LINEAR REGRESSION MODEL**"
      ],
      "metadata": {
        "id": "FEKNr5BWXeN-"
      }
    },
    {
      "cell_type": "code",
      "source": [
        "dataset_path = '/content/gdrive/MyDrive/raisin/Raisin_Dataset/Raisin_Dataset.xlsx'\n",
        "data = pd.read_excel(dataset_path)\n",
        "X = data[['Area', 'Perimeter', 'MajorAxisLength', 'MinorAxisLength', 'Eccentricity', 'ConvexArea', 'Extent']]\n",
        "y = data['Class']\n",
        "\n",
        "label_encoder = LabelEncoder()\n",
        "y = label_encoder.fit_transform(y)\n",
        "X_train, X_test, y_train, y_test = train_test_split(X, y, test_size=0.2, random_state=42)\n",
        "model = LinearRegression()\n",
        "model.fit(X_train, y_train)\n",
        "y_pred_lr = model.predict(X_test)\n"
      ],
      "metadata": {
        "id": "Xqe9cOJpSeUu"
      },
      "execution_count": 190,
      "outputs": []
    },
    {
      "cell_type": "code",
      "source": [
        "accuracy = accuracy_score(y_test, y_pred_lr.round())\n",
        "print(\"Model Accuracy:\", accuracy)"
      ],
      "metadata": {
        "colab": {
          "base_uri": "https://localhost:8080/"
        },
        "id": "gRhaVyr7TSuJ",
        "outputId": "7a29f64a-f66c-4ee4-e3c7-278c2016ce19"
      },
      "execution_count": 173,
      "outputs": [
        {
          "output_type": "stream",
          "name": "stdout",
          "text": [
            "Model Accuracy: 0.8666666666666667\n"
          ]
        }
      ]
    },
    {
      "cell_type": "markdown",
      "source": [
        "## **KNN MODEL**"
      ],
      "metadata": {
        "id": "q8Eg_ZjpXyHI"
      }
    },
    {
      "cell_type": "code",
      "source": [
        "import pandas as pd\n",
        "from sklearn.neighbors import KNeighborsClassifier\n",
        "from sklearn.model_selection import train_test_split\n",
        "from sklearn.metrics import accuracy_score, confusion_matrix, classification_report\n",
        "import matplotlib.pyplot as plt\n",
        "from sklearn.metrics import roc_curve, auc\n",
        "from sklearn.preprocessing import label_binarize\n",
        "from sklearn.metrics import precision_score, recall_score, f1_score"
      ],
      "metadata": {
        "id": "LEwVFp2UfN_l"
      },
      "execution_count": 122,
      "outputs": []
    },
    {
      "cell_type": "code",
      "source": [
        "dataset_path = '/content/gdrive/MyDrive/raisin/Raisin_Dataset/Raisin_Dataset.xlsx'\n",
        "data = pd.read_excel(dataset_path)\n",
        "\n",
        "X = data[['Area', 'Perimeter', 'MajorAxisLength', 'MinorAxisLength', 'Eccentricity', 'ConvexArea', 'Extent']]\n",
        "y = data['Class']"
      ],
      "metadata": {
        "id": "zCU6bkSmVWDu"
      },
      "execution_count": 123,
      "outputs": []
    },
    {
      "cell_type": "code",
      "source": [
        "X_train, X_test, y_train, y_test = train_test_split(X, y, test_size=0.2, random_state=42)\n",
        "error_rates = []\n",
        "for k in range(1, 21):\n",
        "    knn = KNeighborsClassifier(n_neighbors=k)\n",
        "    knn.fit(X_train, y_train)\n",
        "    y_pred = knn.predict(X_test)\n",
        "    error_rates.append(np.mean(y_pred != y_test))\n"
      ],
      "metadata": {
        "id": "6fFb17-VWDsk"
      },
      "execution_count": 124,
      "outputs": []
    },
    {
      "cell_type": "code",
      "source": [
        "plt.figure(figsize=(12, 6))\n",
        "plt.plot(range(1, 21), error_rates, marker='o', markerfacecolor='green', linestyle='dashed', color='red', markersize=15)\n",
        "plt.title(\"Error Rate vs. K Value\", fontsize=20)\n",
        "plt.xlabel(\"K-Value\", fontsize=20)\n",
        "plt.ylabel(\"Error Rate\", fontsize=20)\n",
        "plt.xticks(range(1, 31))\n",
        "plt.show()\n"
      ],
      "metadata": {
        "id": "Cy5li-rDWfpg"
      },
      "execution_count": null,
      "outputs": []
    },
    {
      "cell_type": "code",
      "source": [
        "optimal_k = error_rates.index(min(error_rates)) + 1\n",
        "print(f\"The optimal value of K is: {optimal_k}\")\n",
        "knn = KNeighborsClassifier(n_neighbors=optimal_k)\n",
        "knn.fit(X_train, y_train)\n",
        "y_pred_knn = knn.predict(X_test)\n"
      ],
      "metadata": {
        "colab": {
          "base_uri": "https://localhost:8080/"
        },
        "id": "GAY1xs-rWjmT",
        "outputId": "d85d1b5c-07c9-45f7-9226-bde2bf6806ec"
      },
      "execution_count": 130,
      "outputs": [
        {
          "output_type": "stream",
          "name": "stdout",
          "text": [
            "The optimal value of K is: 16\n"
          ]
        }
      ]
    },
    {
      "cell_type": "code",
      "source": [
        "accuracy = accuracy_score(y_test, y_pred_knn)\n",
        "print(f\"Accuracy: {accuracy:.2f}\")\n",
        "print(\"Confusion Matrix:\")\n",
        "print(confusion_matrix(y_test, y_pred_knn))\n",
        "print(\"\\nClassification Report:\")\n",
        "print(classification_report(y_test, y_pred_knn))"
      ],
      "metadata": {
        "colab": {
          "base_uri": "https://localhost:8080/"
        },
        "id": "P1CK1ELsWnnj",
        "outputId": "805b4214-f3fc-4920-a0e7-ed25551caeba"
      },
      "execution_count": 131,
      "outputs": [
        {
          "output_type": "stream",
          "name": "stdout",
          "text": [
            "Accuracy: 0.86\n",
            "Confusion Matrix:\n",
            "[[71 15]\n",
            " [10 84]]\n",
            "\n",
            "Classification Report:\n",
            "              precision    recall  f1-score   support\n",
            "\n",
            "       Besni       0.88      0.83      0.85        86\n",
            "     Kecimen       0.85      0.89      0.87        94\n",
            "\n",
            "    accuracy                           0.86       180\n",
            "   macro avg       0.86      0.86      0.86       180\n",
            "weighted avg       0.86      0.86      0.86       180\n",
            "\n"
          ]
        }
      ]
    },
    {
      "cell_type": "code",
      "source": [
        "precision_knn = precision_score(y_test, y_pred_knn, average='weighted')\n",
        "recall_knn = recall_score(y_test, y_pred_knn, average='weighted')\n",
        "f1_knn = f1_score(y_test, y_pred_knn, average='weighted')"
      ],
      "metadata": {
        "id": "BiO7iD5pmJNH"
      },
      "execution_count": 132,
      "outputs": []
    },
    {
      "cell_type": "code",
      "source": [
        "print(\"KNN - Precision: {:.3f}, Recall: {:.3f}, F1 Score: {:.3f}\".format(precision_knn, recall_knn, f1_knn))"
      ],
      "metadata": {
        "colab": {
          "base_uri": "https://localhost:8080/"
        },
        "id": "ms1ekLokmJgv",
        "outputId": "01a9a340-d6a3-4a74-e402-f5b02af460e7"
      },
      "execution_count": 133,
      "outputs": [
        {
          "output_type": "stream",
          "name": "stdout",
          "text": [
            "KNN - Precision: 0.862, Recall: 0.861, F1 Score: 0.861\n"
          ]
        }
      ]
    },
    {
      "cell_type": "code",
      "source": [
        "y_score = knn.predict_proba(X_test)[:, 1]\n",
        "y_test_binary = label_binarize(y_test, classes=['Kecimen', 'Besni'])\n",
        "fpr, tpr, _ = roc_curve(y_test_binary, y_score)\n",
        "roc_auc = auc(fpr, tpr)\n"
      ],
      "metadata": {
        "id": "jp5iJIJzfBV9"
      },
      "execution_count": 134,
      "outputs": []
    },
    {
      "cell_type": "code",
      "source": [
        "plt.figure(figsize=(8, 6))\n",
        "plt.plot(fpr, tpr, color='darkorange', lw=2, label='ROC curve (AUC = %0.2f)' % roc_auc)\n",
        "plt.plot([0, 1], [0, 1], color='navy', lw=2, linestyle='--')\n",
        "plt.xlim([0.0, 1.0])\n",
        "plt.ylim([0.0, 1.0])\n",
        "plt.xlabel('False Positive Rate')\n",
        "plt.ylabel('True Positive Rate')\n",
        "plt.title('(ROC) Curve-KNN')\n",
        "plt.legend(loc=\"lower right\")\n",
        "plt.show()"
      ],
      "metadata": {
        "colab": {
          "base_uri": "https://localhost:8080/",
          "height": 564
        },
        "id": "x1fQL1K1fdkP",
        "outputId": "21a8f7c3-ffcf-45aa-aae9-28c912bec368"
      },
      "execution_count": 135,
      "outputs": [
        {
          "output_type": "display_data",
          "data": {
            "text/plain": [
              "<Figure size 800x600 with 1 Axes>"
            ],
            "image/png": "[encoded data removed]"
          },
          "metadata": {}
        }
      ]
    },
    {
      "cell_type": "markdown",
      "source": [
        "# **NAIVE BAYES MODEL**"
      ],
      "metadata": {
        "id": "veE8vN1UYUJC"
      }
    },
    {
      "cell_type": "code",
      "source": [
        "import pandas as pd\n",
        "from sklearn.naive_bayes import GaussianNB\n",
        "from sklearn.model_selection import train_test_split\n",
        "from sklearn.metrics import accuracy_score\n",
        "from sklearn.metrics import roc_curve, auc\n",
        "import matplotlib.pyplot as plt\n",
        "from sklearn.preprocessing import label_binarize\n",
        "from sklearn.metrics import precision_score, recall_score, f1_score\n"
      ],
      "metadata": {
        "id": "-IR-fX6jZPs0"
      },
      "execution_count": 136,
      "outputs": []
    },
    {
      "cell_type": "code",
      "source": [
        "dataset_path = '/content/gdrive/MyDrive/raisin/Raisin_Dataset/Raisin_Dataset.xlsx'\n",
        "data = pd.read_excel(dataset_path)\n",
        "\n",
        "X = data[['Area', 'Perimeter', 'MajorAxisLength', 'MinorAxisLength', 'Eccentricity', 'ConvexArea', 'Extent']]\n",
        "y = data['Class']"
      ],
      "metadata": {
        "id": "tYNzupedZAEz"
      },
      "execution_count": 137,
      "outputs": []
    },
    {
      "cell_type": "code",
      "source": [
        "X_train, X_test, y_train, y_test = train_test_split(X, y, test_size=0.2, random_state=42)\n",
        "nb = GaussianNB()\n",
        "nb.fit(X_train, y_train)\n",
        "y_pred_nb = nb.predict(X_test)\n"
      ],
      "metadata": {
        "id": "ykLOewiaZBKw"
      },
      "execution_count": 140,
      "outputs": []
    },
    {
      "cell_type": "code",
      "source": [
        "accuracy = accuracy_score(y_test, y_pred_nb)\n",
        "print(\"Naive Bayes Model Accuracy:\", accuracy)"
      ],
      "metadata": {
        "colab": {
          "base_uri": "https://localhost:8080/"
        },
        "id": "m_i7rOm-ZkBE",
        "outputId": "c55060f8-f47a-420c-d4e9-5fdb5ae48098"
      },
      "execution_count": 141,
      "outputs": [
        {
          "output_type": "stream",
          "name": "stdout",
          "text": [
            "Naive Bayes Model Accuracy: 0.8277777777777777\n"
          ]
        }
      ]
    },
    {
      "cell_type": "code",
      "source": [
        "precision_nb = precision_score(y_test, y_pred_nb, average='weighted')\n",
        "recall_nb = recall_score(y_test, y_pred_nb, average='weighted')\n",
        "f1_nb = f1_score(y_test, y_pred_nb, average='weighted')"
      ],
      "metadata": {
        "id": "WtjnaB2DlMlk"
      },
      "execution_count": 142,
      "outputs": []
    },
    {
      "cell_type": "code",
      "source": [
        "print(\"Naive Bayes - Precision: {:.3f}, Recall: {:.3f}, F1 Score: {:.3f}\".format(precision_nb, recall_nb, f1_nb))"
      ],
      "metadata": {
        "colab": {
          "base_uri": "https://localhost:8080/"
        },
        "id": "FYEUVE4llYR1",
        "outputId": "4b6be49c-bac8-4d74-ed29-5ee299c69700"
      },
      "execution_count": 143,
      "outputs": [
        {
          "output_type": "stream",
          "name": "stdout",
          "text": [
            "Naive Bayes - Precision: 0.836, Recall: 0.828, F1 Score: 0.826\n"
          ]
        }
      ]
    },
    {
      "cell_type": "code",
      "source": [
        "y_score = nb.predict_proba(X_test)[:, 1]\n",
        "y_test_binary = label_binarize(y_test, classes=['Kecimen', 'Besni'])\n",
        "fpr, tpr, _ = roc_curve(y_test_binary, y_score)\n",
        "roc_auc = auc(fpr, tpr)"
      ],
      "metadata": {
        "id": "M8dQW9ctg6C4"
      },
      "execution_count": 144,
      "outputs": []
    },
    {
      "cell_type": "code",
      "source": [
        "plt.figure(figsize=(8, 6))\n",
        "plt.plot(fpr, tpr, color='darkorange', lw=2, label='ROC curve (AUC = %0.2f)' % roc_auc)\n",
        "plt.plot([0, 1], [0, 1], color='navy', lw=2, linestyle='--')\n",
        "plt.xlim([0.0, 1.05])\n",
        "plt.ylim([-0.5, 1.05])\n",
        "plt.xlabel('False Positive Rate')\n",
        "plt.ylabel('True Positive Rate')\n",
        "plt.title('ROC Curve - Naive Bayes')\n",
        "plt.legend(loc=\"lower right\")\n",
        "plt.show()"
      ],
      "metadata": {
        "colab": {
          "base_uri": "https://localhost:8080/",
          "height": 564
        },
        "id": "3Az6gi-nhM3w",
        "outputId": "149251f2-ea8f-4df0-ee43-cc0fc4326ee0"
      },
      "execution_count": 145,
      "outputs": [
        {
          "output_type": "display_data",
          "data": {
            "text/plain": [
              "<Figure size 800x600 with 1 Axes>"
            ],
            "image/png": "[encoded data removed]"
          },
          "metadata": {}
        }
      ]
    },
    {
      "cell_type": "markdown",
      "source": [
        "# **PERCEPTRON LAYER ALGORITHM MODEL**"
      ],
      "metadata": {
        "id": "YU2E571RYSoj"
      }
    },
    {
      "cell_type": "code",
      "source": [
        "import pandas as pd\n",
        "from sklearn.linear_model import Perceptron\n",
        "from sklearn.model_selection import train_test_split\n",
        "from sklearn.metrics import accuracy_score\n",
        "from sklearn.metrics import precision_score, recall_score, f1_score\n"
      ],
      "metadata": {
        "id": "6-fDQEuJZ4v-"
      },
      "execution_count": 146,
      "outputs": []
    },
    {
      "cell_type": "code",
      "source": [
        "dataset_path = '/content/gdrive/MyDrive/raisin/Raisin_Dataset/Raisin_Dataset.xlsx'\n",
        "data = pd.read_excel(dataset_path)\n",
        "\n",
        "X = data[['Area', 'Perimeter', 'MajorAxisLength', 'MinorAxisLength', 'Eccentricity', 'ConvexArea', 'Extent']]\n",
        "y = data['Class']"
      ],
      "metadata": {
        "id": "7cR66jUfZ-zE"
      },
      "execution_count": 52,
      "outputs": []
    },
    {
      "cell_type": "code",
      "source": [
        "X_train, X_test, y_train, y_test = train_test_split(X, y, test_size=0.2, random_state=42)\n",
        "pla = Perceptron()\n",
        "pla.fit(X_train, y_train)\n",
        "y_pred_pla = pla.predict(X_test)\n"
      ],
      "metadata": {
        "id": "d4LLkUGbZ_F5"
      },
      "execution_count": 147,
      "outputs": []
    },
    {
      "cell_type": "code",
      "source": [
        "accuracy = accuracy_score(y_test, y_pred_pla)\n",
        "print(\"PLA Model Accuracy:\", accuracy)\n"
      ],
      "metadata": {
        "colab": {
          "base_uri": "https://localhost:8080/"
        },
        "id": "24bO2cKVaGfx",
        "outputId": "2ea9f4e2-0de5-42ff-db07-69e00fd6a9f4"
      },
      "execution_count": 148,
      "outputs": [
        {
          "output_type": "stream",
          "name": "stdout",
          "text": [
            "PLA Model Accuracy: 0.4777777777777778\n"
          ]
        }
      ]
    },
    {
      "cell_type": "code",
      "source": [
        "precision_pla = precision_score(y_test, y_pred_pla, average='weighted')\n",
        "recall_pla = recall_score(y_test, y_pred_pla, average='weighted')\n",
        "f1_pla = f1_score(y_test, y_pred_pla, average='weighted')"
      ],
      "metadata": {
        "id": "NX4qGA1elicr"
      },
      "execution_count": null,
      "outputs": []
    },
    {
      "cell_type": "code",
      "source": [
        "print(\"Perceptron - Precision: {:.3f}, Recall: {:.3f}, F1 Score: {:.3f}\".format(precision_pla, recall_pla, f1_pla))\n"
      ],
      "metadata": {
        "colab": {
          "base_uri": "https://localhost:8080/"
        },
        "id": "sxiuV3khli-Z",
        "outputId": "424f1af5-c1cc-404a-ecab-dcf88566b67e"
      },
      "execution_count": 151,
      "outputs": [
        {
          "output_type": "stream",
          "name": "stdout",
          "text": [
            "Perceptron - Precision: 0.228, Recall: 0.478, F1 Score: 0.309\n"
          ]
        }
      ]
    },
    {
      "cell_type": "code",
      "source": [
        "from sklearn.metrics import roc_curve, auc\n",
        "import matplotlib.pyplot as plt\n",
        "\n",
        "decision_train = pla.decision_function(X_train)\n",
        "decision_test = pla.decision_function(X_test)\n",
        "fpr_train, tpr_train, _ = roc_curve(y_train, decision_train)\n",
        "roc_auc_train = auc(fpr_train, tpr_train)\n",
        "fpr_test, tpr_test, _ = roc_curve(y_test, decision_test)\n",
        "roc_auc_test = auc(fpr_test, tpr_test)\n"
      ],
      "metadata": {
        "id": "xo6yiHDHppB0"
      },
      "execution_count": 175,
      "outputs": []
    },
    {
      "cell_type": "code",
      "source": [
        "plt.figure(figsize=(8, 6))\n",
        "plt.plot(fpr_train, tpr_train, color='darkorange', lw=2, label=f'Train ROC curve (AUC = {roc_auc_train:.2f})')\n",
        "plt.plot(fpr_test, tpr_test, color='cornflowerblue', lw=2, label=f'Test ROC curve (AUC = {roc_auc_test:.2f})')\n",
        "plt.plot([0, 1], [0, 1], color='navy', lw=2, linestyle='--')\n",
        "plt.xlim([0.0, 1.0])\n",
        "plt.ylim([0.0, 1.05])\n",
        "plt.xlabel('False Positive Rate')\n",
        "plt.ylabel('True Positive Rate')\n",
        "plt.title('Receiver Operating Characteristic (ROC) Curve')\n",
        "plt.legend(loc=\"lower right\")\n",
        "plt.show()"
      ],
      "metadata": {
        "colab": {
          "base_uri": "https://localhost:8080/",
          "height": 564
        },
        "id": "Kv7YKPusp0xt",
        "outputId": "3d7471f5-6b6b-45d5-d6b3-33812aacf17e"
      },
      "execution_count": 176,
      "outputs": [
        {
          "output_type": "display_data",
          "data": {
            "text/plain": [
              "<Figure size 800x600 with 1 Axes>"
            ],
            "image/png": "[encoded data removed]"
          },
          "metadata": {}
        }
      ]
    },
    {
      "cell_type": "markdown",
      "source": [
        "# **SUPPORT VECTOR MACHINE**"
      ],
      "metadata": {
        "id": "kSrg20lhYt2-"
      }
    },
    {
      "cell_type": "code",
      "source": [
        "import pandas as pd\n",
        "from sklearn.svm import SVC\n",
        "from sklearn.model_selection import train_test_split\n",
        "from sklearn.metrics import accuracy_score\n",
        "from sklearn.metrics import precision_score, recall_score, f1_score\n"
      ],
      "metadata": {
        "id": "Tq41gNmRaTzs"
      },
      "execution_count": 152,
      "outputs": []
    },
    {
      "cell_type": "code",
      "source": [
        "dataset_path = '/content/gdrive/MyDrive/raisin/Raisin_Dataset/Raisin_Dataset.xlsx'\n",
        "data = pd.read_excel(dataset_path)\n",
        "\n",
        "X = data[['Area', 'Perimeter', 'MajorAxisLength', 'MinorAxisLength', 'Eccentricity', 'ConvexArea', 'Extent']]\n",
        "y = data['Class']"
      ],
      "metadata": {
        "id": "WwQqYAb6bMQr"
      },
      "execution_count": 153,
      "outputs": []
    },
    {
      "cell_type": "code",
      "source": [
        "X_train, X_test, y_train, y_test = train_test_split(X, y, test_size=0.2, random_state=42)\n",
        "svm = SVC(kernel='linear', C=1.0, random_state=42)\n",
        "svm.fit(X_train, y_train)\n",
        "y_pred_svm = svm.predict(X_test)"
      ],
      "metadata": {
        "id": "tgdefJtBbMvH"
      },
      "execution_count": 156,
      "outputs": []
    },
    {
      "cell_type": "code",
      "source": [
        "accuracy = accuracy_score(y_test, y_pred_svm)\n",
        "print(\"SVM Model Accuracy:\", accuracy)"
      ],
      "metadata": {
        "colab": {
          "base_uri": "https://localhost:8080/"
        },
        "id": "rhshw8CNbUYL",
        "outputId": "2d20852b-533f-4942-827d-11a8176cfc54"
      },
      "execution_count": 158,
      "outputs": [
        {
          "output_type": "stream",
          "name": "stdout",
          "text": [
            "SVM Model Accuracy: 0.85\n"
          ]
        }
      ]
    },
    {
      "cell_type": "code",
      "source": [
        "\n",
        "precision_svm = precision_score(y_test, y_pred_svm, average='weighted')\n",
        "recall_svm = recall_score(y_test, y_pred_svm, average='weighted')\n",
        "f1_svm = f1_score(y_test, y_pred_svm, average='weighted')"
      ],
      "metadata": {
        "id": "49CPcqEul1xW"
      },
      "execution_count": 159,
      "outputs": []
    },
    {
      "cell_type": "code",
      "source": [
        "print(\"SVM - Precision: {:.3f}, Recall: {:.3f}, F1 Score: {:.3f}\".format(precision_svm, recall_svm, f1_svm))"
      ],
      "metadata": {
        "colab": {
          "base_uri": "https://localhost:8080/"
        },
        "id": "94cfNO6Bmb2y",
        "outputId": "635e172e-1ca9-4c0c-8576-9e5da4efd21b"
      },
      "execution_count": 160,
      "outputs": [
        {
          "output_type": "stream",
          "name": "stdout",
          "text": [
            "SVM - Precision: 0.853, Recall: 0.850, F1 Score: 0.850\n"
          ]
        }
      ]
    },
    {
      "cell_type": "code",
      "source": [
        "from sklearn.metrics import roc_curve, auc\n",
        "fpr, tpr, _ = roc_curve(y_test, y_score)\n",
        "roc_auc = auc(fpr, tpr)"
      ],
      "metadata": {
        "id": "DA72JAVtqH4x"
      },
      "execution_count": 179,
      "outputs": []
    },
    {
      "cell_type": "code",
      "source": [
        "plt.figure(figsize=(8, 6))\n",
        "plt.plot(fpr, tpr, color='darkorange', lw=2, label='ROC curve (AUC = %0.2f)' % roc_auc)\n",
        "plt.plot([0, 1], [0, 1], color='navy', lw=2, linestyle='--')\n",
        "plt.xlim([0.0, 1.0])\n",
        "plt.ylim([0.0, 1.05])\n",
        "plt.xlabel('False Positive Rate')\n",
        "plt.ylabel('True Positive Rate')\n",
        "plt.title('(ROC) Curve for SVM')\n",
        "plt.legend(loc=\"lower right\")\n",
        "plt.show()"
      ],
      "metadata": {
        "colab": {
          "base_uri": "https://localhost:8080/",
          "height": 564
        },
        "id": "ROGjcaI-qVvC",
        "outputId": "aba7e463-5423-4138-be20-f42981d6cc36"
      },
      "execution_count": 181,
      "outputs": [
        {
          "output_type": "display_data",
          "data": {
            "text/plain": [
              "<Figure size 800x600 with 1 Axes>"
            ],
            "image/png": "[encoded data removed]"
          },
          "metadata": {}
        }
      ]
    },
    {
      "cell_type": "markdown",
      "source": [
        "# **MULTI LAYER PERCEPTRON MODEL**"
      ],
      "metadata": {
        "id": "tI10C-WGYIdq"
      }
    },
    {
      "cell_type": "code",
      "source": [
        "import pandas as pd\n",
        "from sklearn.preprocessing import StandardScaler\n",
        "from sklearn.model_selection import train_test_split\n",
        "from keras.models import Sequential\n",
        "from keras.layers import Dense\n",
        "from keras.utils import to_categorical\n",
        "from sklearn.metrics import accuracy_score\n",
        "from sklearn.metrics import precision_score, recall_score, f1_score"
      ],
      "metadata": {
        "id": "2O_ssJhkaVor"
      },
      "execution_count": 161,
      "outputs": []
    },
    {
      "cell_type": "code",
      "source": [
        "dataset_path = '/content/gdrive/MyDrive/raisin/Raisin_Dataset/Raisin_Dataset.xlsx'\n",
        "data = pd.read_excel(dataset_path)\n",
        "\n",
        "X = data[['Area', 'Perimeter', 'MajorAxisLength', 'MinorAxisLength', 'Eccentricity', 'ConvexArea', 'Extent']]\n",
        "y = data['Class']"
      ],
      "metadata": {
        "id": "Z-57InQXb5A1"
      },
      "execution_count": 162,
      "outputs": []
    },
    {
      "cell_type": "code",
      "source": [
        "X_train, X_test, y_train, y_test = train_test_split(X, y, test_size=0.2, random_state=42)\n",
        "scaler = StandardScaler()\n",
        "X_train = scaler.fit_transform(X_train)\n",
        "X_test = scaler.transform(X_test)\n"
      ],
      "metadata": {
        "id": "trozaQu6b_9Y"
      },
      "execution_count": 163,
      "outputs": []
    },
    {
      "cell_type": "code",
      "source": [
        "model = Sequential()\n",
        "model.add(Dense(64, activation='relu', input_shape=(7,)))\n",
        "model.add(Dense(32, activation='relu'))\n",
        "model.add(Dense(2, activation='softmax'))\n",
        "model.compile(optimizer='adam', loss='categorical_crossentropy', metrics=['accuracy'])"
      ],
      "metadata": {
        "id": "xIERyXcMcEsE"
      },
      "execution_count": 194,
      "outputs": []
    },
    {
      "cell_type": "code",
      "source": [
        "y = pd.get_dummies(y)\n",
        "X_train, X_test, y_train, y_test = train_test_split(X, y, test_size=0.2, random_state=42)\n",
        "\n",
        "scaler = StandardScaler()\n",
        "X_train = scaler.fit_transform(X_train)\n",
        "X_test = scaler.transform(X_test)\n"
      ],
      "metadata": {
        "id": "YbnE3eZ3ck_y"
      },
      "execution_count": 195,
      "outputs": []
    },
    {
      "cell_type": "code",
      "source": [
        "model = Sequential()\n",
        "model.add(Dense(64, activation='relu', input_shape=(7,)))\n",
        "model.add(Dense(32, activation='relu'))\n",
        "model.add(Dense(2, activation='softmax'))\n",
        "model.compile(optimizer='adam', loss='categorical_crossentropy', metrics=['accuracy'])\n"
      ],
      "metadata": {
        "id": "MV22Loszc4At"
      },
      "execution_count": 196,
      "outputs": []
    },
    {
      "cell_type": "code",
      "source": [
        "model.fit(X_train, y_train, epochs=100, batch_size=32, validation_data=(X_test, y_test))\n"
      ],
      "metadata": {
        "colab": {
          "base_uri": "https://localhost:8080/"
        },
        "id": "dvh2vbUic7rH",
        "outputId": "65bf3e92-b502-461a-be8e-0dcd9b1cc9d8"
      },
      "execution_count": 197,
      "outputs": [
        {
          "output_type": "stream",
          "name": "stdout",
          "text": [
            "Epoch 1/100\n",
            "23/23 [==============================] - 1s 15ms/step - loss: 0.5157 - accuracy: 0.7403 - val_loss: 0.3990 - val_accuracy: 0.8500\n",
            "Epoch 2/100\n",
            "23/23 [==============================] - 0s 5ms/step - loss: 0.3840 - accuracy: 0.8556 - val_loss: 0.3504 - val_accuracy: 0.8611\n",
            "Epoch 3/100\n",
            "23/23 [==============================] - 0s 5ms/step - loss: 0.3598 - accuracy: 0.8708 - val_loss: 0.3393 - val_accuracy: 0.8722\n",
            "Epoch 4/100\n",
            "23/23 [==============================] - 0s 5ms/step - loss: 0.3509 - accuracy: 0.8736 - val_loss: 0.3343 - val_accuracy: 0.8722\n",
            "Epoch 5/100\n",
            "23/23 [==============================] - 0s 5ms/step - loss: 0.3441 - accuracy: 0.8736 - val_loss: 0.3333 - val_accuracy: 0.8667\n",
            "Epoch 6/100\n",
            "23/23 [==============================] - 0s 5ms/step - loss: 0.3396 - accuracy: 0.8778 - val_loss: 0.3308 - val_accuracy: 0.8667\n",
            "Epoch 7/100\n",
            "23/23 [==============================] - 0s 5ms/step - loss: 0.3370 - accuracy: 0.8764 - val_loss: 0.3300 - val_accuracy: 0.8667\n",
            "Epoch 8/100\n",
            "23/23 [==============================] - 0s 5ms/step - loss: 0.3319 - accuracy: 0.8792 - val_loss: 0.3269 - val_accuracy: 0.8667\n",
            "Epoch 9/100\n",
            "23/23 [==============================] - 0s 6ms/step - loss: 0.3300 - accuracy: 0.8806 - val_loss: 0.3278 - val_accuracy: 0.8667\n",
            "Epoch 10/100\n",
            "23/23 [==============================] - 0s 6ms/step - loss: 0.3265 - accuracy: 0.8806 - val_loss: 0.3276 - val_accuracy: 0.8667\n",
            "Epoch 11/100\n",
            "23/23 [==============================] - 0s 5ms/step - loss: 0.3245 - accuracy: 0.8778 - val_loss: 0.3251 - val_accuracy: 0.8667\n",
            "Epoch 12/100\n",
            "23/23 [==============================] - 0s 5ms/step - loss: 0.3219 - accuracy: 0.8764 - val_loss: 0.3236 - val_accuracy: 0.8667\n",
            "Epoch 13/100\n",
            "23/23 [==============================] - 0s 5ms/step - loss: 0.3194 - accuracy: 0.8806 - val_loss: 0.3247 - val_accuracy: 0.8611\n",
            "Epoch 14/100\n",
            "23/23 [==============================] - 0s 5ms/step - loss: 0.3172 - accuracy: 0.8806 - val_loss: 0.3243 - val_accuracy: 0.8667\n",
            "Epoch 15/100\n",
            "23/23 [==============================] - 0s 5ms/step - loss: 0.3158 - accuracy: 0.8792 - val_loss: 0.3254 - val_accuracy: 0.8611\n",
            "Epoch 16/100\n",
            "23/23 [==============================] - 0s 5ms/step - loss: 0.3132 - accuracy: 0.8778 - val_loss: 0.3243 - val_accuracy: 0.8611\n",
            "Epoch 17/100\n",
            "23/23 [==============================] - 0s 5ms/step - loss: 0.3144 - accuracy: 0.8806 - val_loss: 0.3256 - val_accuracy: 0.8667\n",
            "Epoch 18/100\n",
            "23/23 [==============================] - 0s 5ms/step - loss: 0.3155 - accuracy: 0.8736 - val_loss: 0.3251 - val_accuracy: 0.8611\n",
            "Epoch 19/100\n",
            "23/23 [==============================] - 0s 6ms/step - loss: 0.3086 - accuracy: 0.8764 - val_loss: 0.3247 - val_accuracy: 0.8611\n",
            "Epoch 20/100\n",
            "23/23 [==============================] - 0s 5ms/step - loss: 0.3068 - accuracy: 0.8778 - val_loss: 0.3238 - val_accuracy: 0.8611\n",
            "Epoch 21/100\n",
            "23/23 [==============================] - 0s 5ms/step - loss: 0.3048 - accuracy: 0.8764 - val_loss: 0.3237 - val_accuracy: 0.8611\n",
            "Epoch 22/100\n",
            "23/23 [==============================] - 0s 5ms/step - loss: 0.3039 - accuracy: 0.8764 - val_loss: 0.3260 - val_accuracy: 0.8611\n",
            "Epoch 23/100\n",
            "23/23 [==============================] - 0s 5ms/step - loss: 0.3043 - accuracy: 0.8750 - val_loss: 0.3258 - val_accuracy: 0.8556\n",
            "Epoch 24/100\n",
            "23/23 [==============================] - 0s 6ms/step - loss: 0.3007 - accuracy: 0.8778 - val_loss: 0.3259 - val_accuracy: 0.8556\n",
            "Epoch 25/100\n",
            "23/23 [==============================] - 0s 5ms/step - loss: 0.2988 - accuracy: 0.8778 - val_loss: 0.3258 - val_accuracy: 0.8611\n",
            "Epoch 26/100\n",
            "23/23 [==============================] - 0s 5ms/step - loss: 0.2984 - accuracy: 0.8806 - val_loss: 0.3265 - val_accuracy: 0.8500\n",
            "Epoch 27/100\n",
            "23/23 [==============================] - 0s 5ms/step - loss: 0.2970 - accuracy: 0.8833 - val_loss: 0.3253 - val_accuracy: 0.8500\n",
            "Epoch 28/100\n",
            "23/23 [==============================] - 0s 5ms/step - loss: 0.2967 - accuracy: 0.8764 - val_loss: 0.3262 - val_accuracy: 0.8500\n",
            "Epoch 29/100\n",
            "23/23 [==============================] - 0s 6ms/step - loss: 0.3006 - accuracy: 0.8778 - val_loss: 0.3312 - val_accuracy: 0.8611\n",
            "Epoch 30/100\n",
            "23/23 [==============================] - 0s 5ms/step - loss: 0.2961 - accuracy: 0.8806 - val_loss: 0.3333 - val_accuracy: 0.8556\n",
            "Epoch 31/100\n",
            "23/23 [==============================] - 0s 6ms/step - loss: 0.2967 - accuracy: 0.8778 - val_loss: 0.3254 - val_accuracy: 0.8444\n",
            "Epoch 32/100\n",
            "23/23 [==============================] - 0s 6ms/step - loss: 0.2895 - accuracy: 0.8736 - val_loss: 0.3300 - val_accuracy: 0.8500\n",
            "Epoch 33/100\n",
            "23/23 [==============================] - 0s 4ms/step - loss: 0.2896 - accuracy: 0.8792 - val_loss: 0.3268 - val_accuracy: 0.8444\n",
            "Epoch 34/100\n",
            "23/23 [==============================] - 0s 4ms/step - loss: 0.2873 - accuracy: 0.8792 - val_loss: 0.3260 - val_accuracy: 0.8444\n",
            "Epoch 35/100\n",
            "23/23 [==============================] - 0s 4ms/step - loss: 0.2891 - accuracy: 0.8792 - val_loss: 0.3337 - val_accuracy: 0.8500\n",
            "Epoch 36/100\n",
            "23/23 [==============================] - 0s 4ms/step - loss: 0.2865 - accuracy: 0.8778 - val_loss: 0.3239 - val_accuracy: 0.8444\n",
            "Epoch 37/100\n",
            "23/23 [==============================] - 0s 4ms/step - loss: 0.2861 - accuracy: 0.8778 - val_loss: 0.3291 - val_accuracy: 0.8444\n",
            "Epoch 38/100\n",
            "23/23 [==============================] - 0s 4ms/step - loss: 0.2837 - accuracy: 0.8819 - val_loss: 0.3312 - val_accuracy: 0.8556\n",
            "Epoch 39/100\n",
            "23/23 [==============================] - 0s 4ms/step - loss: 0.2832 - accuracy: 0.8819 - val_loss: 0.3271 - val_accuracy: 0.8500\n",
            "Epoch 40/100\n",
            "23/23 [==============================] - 0s 3ms/step - loss: 0.2819 - accuracy: 0.8847 - val_loss: 0.3304 - val_accuracy: 0.8444\n",
            "Epoch 41/100\n",
            "23/23 [==============================] - 0s 3ms/step - loss: 0.2800 - accuracy: 0.8847 - val_loss: 0.3267 - val_accuracy: 0.8444\n",
            "Epoch 42/100\n",
            "23/23 [==============================] - 0s 3ms/step - loss: 0.2789 - accuracy: 0.8764 - val_loss: 0.3302 - val_accuracy: 0.8389\n",
            "Epoch 43/100\n",
            "23/23 [==============================] - 0s 4ms/step - loss: 0.2798 - accuracy: 0.8819 - val_loss: 0.3218 - val_accuracy: 0.8500\n",
            "Epoch 44/100\n",
            "23/23 [==============================] - 0s 3ms/step - loss: 0.2797 - accuracy: 0.8847 - val_loss: 0.3264 - val_accuracy: 0.8389\n",
            "Epoch 45/100\n",
            "23/23 [==============================] - 0s 4ms/step - loss: 0.2764 - accuracy: 0.8833 - val_loss: 0.3289 - val_accuracy: 0.8444\n",
            "Epoch 46/100\n",
            "23/23 [==============================] - 0s 4ms/step - loss: 0.2805 - accuracy: 0.8819 - val_loss: 0.3311 - val_accuracy: 0.8389\n",
            "Epoch 47/100\n",
            "23/23 [==============================] - 0s 4ms/step - loss: 0.2796 - accuracy: 0.8875 - val_loss: 0.3303 - val_accuracy: 0.8389\n",
            "Epoch 48/100\n",
            "23/23 [==============================] - 0s 3ms/step - loss: 0.2786 - accuracy: 0.8847 - val_loss: 0.3308 - val_accuracy: 0.8444\n",
            "Epoch 49/100\n",
            "23/23 [==============================] - 0s 3ms/step - loss: 0.2761 - accuracy: 0.8833 - val_loss: 0.3330 - val_accuracy: 0.8444\n",
            "Epoch 50/100\n",
            "23/23 [==============================] - 0s 4ms/step - loss: 0.2752 - accuracy: 0.8875 - val_loss: 0.3272 - val_accuracy: 0.8444\n",
            "Epoch 51/100\n",
            "23/23 [==============================] - 0s 4ms/step - loss: 0.2750 - accuracy: 0.8847 - val_loss: 0.3306 - val_accuracy: 0.8389\n",
            "Epoch 52/100\n",
            "23/23 [==============================] - 0s 3ms/step - loss: 0.2717 - accuracy: 0.8847 - val_loss: 0.3276 - val_accuracy: 0.8444\n",
            "Epoch 53/100\n",
            "23/23 [==============================] - 0s 3ms/step - loss: 0.2714 - accuracy: 0.8903 - val_loss: 0.3286 - val_accuracy: 0.8389\n",
            "Epoch 54/100\n",
            "23/23 [==============================] - 0s 4ms/step - loss: 0.2687 - accuracy: 0.8903 - val_loss: 0.3259 - val_accuracy: 0.8444\n",
            "Epoch 55/100\n",
            "23/23 [==============================] - 0s 4ms/step - loss: 0.2698 - accuracy: 0.8889 - val_loss: 0.3348 - val_accuracy: 0.8556\n",
            "Epoch 56/100\n",
            "23/23 [==============================] - 0s 4ms/step - loss: 0.2695 - accuracy: 0.8917 - val_loss: 0.3281 - val_accuracy: 0.8389\n",
            "Epoch 57/100\n",
            "23/23 [==============================] - 0s 4ms/step - loss: 0.2681 - accuracy: 0.8903 - val_loss: 0.3311 - val_accuracy: 0.8444\n",
            "Epoch 58/100\n",
            "23/23 [==============================] - 0s 4ms/step - loss: 0.2684 - accuracy: 0.8875 - val_loss: 0.3277 - val_accuracy: 0.8389\n",
            "Epoch 59/100\n",
            "23/23 [==============================] - 0s 3ms/step - loss: 0.2664 - accuracy: 0.8889 - val_loss: 0.3295 - val_accuracy: 0.8444\n",
            "Epoch 60/100\n",
            "23/23 [==============================] - 0s 4ms/step - loss: 0.2678 - accuracy: 0.8889 - val_loss: 0.3300 - val_accuracy: 0.8389\n",
            "Epoch 61/100\n",
            "23/23 [==============================] - 0s 4ms/step - loss: 0.2654 - accuracy: 0.8917 - val_loss: 0.3274 - val_accuracy: 0.8556\n",
            "Epoch 62/100\n",
            "23/23 [==============================] - 0s 3ms/step - loss: 0.2678 - accuracy: 0.8931 - val_loss: 0.3367 - val_accuracy: 0.8500\n",
            "Epoch 63/100\n",
            "23/23 [==============================] - 0s 4ms/step - loss: 0.2677 - accuracy: 0.8958 - val_loss: 0.3274 - val_accuracy: 0.8500\n",
            "Epoch 64/100\n",
            "23/23 [==============================] - 0s 3ms/step - loss: 0.2627 - accuracy: 0.8931 - val_loss: 0.3295 - val_accuracy: 0.8444\n",
            "Epoch 65/100\n",
            "23/23 [==============================] - 0s 4ms/step - loss: 0.2658 - accuracy: 0.8931 - val_loss: 0.3342 - val_accuracy: 0.8611\n",
            "Epoch 66/100\n",
            "23/23 [==============================] - 0s 3ms/step - loss: 0.2625 - accuracy: 0.8931 - val_loss: 0.3261 - val_accuracy: 0.8444\n",
            "Epoch 67/100\n",
            "23/23 [==============================] - 0s 3ms/step - loss: 0.2652 - accuracy: 0.8931 - val_loss: 0.3282 - val_accuracy: 0.8389\n",
            "Epoch 68/100\n",
            "23/23 [==============================] - 0s 4ms/step - loss: 0.2644 - accuracy: 0.8944 - val_loss: 0.3329 - val_accuracy: 0.8444\n",
            "Epoch 69/100\n",
            "23/23 [==============================] - 0s 3ms/step - loss: 0.2610 - accuracy: 0.8972 - val_loss: 0.3268 - val_accuracy: 0.8444\n",
            "Epoch 70/100\n",
            "23/23 [==============================] - 0s 4ms/step - loss: 0.2595 - accuracy: 0.8972 - val_loss: 0.3266 - val_accuracy: 0.8444\n",
            "Epoch 71/100\n",
            "23/23 [==============================] - 0s 3ms/step - loss: 0.2594 - accuracy: 0.8972 - val_loss: 0.3276 - val_accuracy: 0.8556\n",
            "Epoch 72/100\n",
            "23/23 [==============================] - 0s 3ms/step - loss: 0.2595 - accuracy: 0.8986 - val_loss: 0.3280 - val_accuracy: 0.8444\n",
            "Epoch 73/100\n",
            "23/23 [==============================] - 0s 4ms/step - loss: 0.2634 - accuracy: 0.8972 - val_loss: 0.3259 - val_accuracy: 0.8444\n",
            "Epoch 74/100\n",
            "23/23 [==============================] - 0s 3ms/step - loss: 0.2599 - accuracy: 0.8972 - val_loss: 0.3280 - val_accuracy: 0.8556\n",
            "Epoch 75/100\n",
            "23/23 [==============================] - 0s 4ms/step - loss: 0.2599 - accuracy: 0.8944 - val_loss: 0.3301 - val_accuracy: 0.8556\n",
            "Epoch 76/100\n",
            "23/23 [==============================] - 0s 3ms/step - loss: 0.2580 - accuracy: 0.8972 - val_loss: 0.3311 - val_accuracy: 0.8611\n",
            "Epoch 77/100\n",
            "23/23 [==============================] - 0s 4ms/step - loss: 0.2575 - accuracy: 0.8903 - val_loss: 0.3283 - val_accuracy: 0.8556\n",
            "Epoch 78/100\n",
            "23/23 [==============================] - 0s 3ms/step - loss: 0.2575 - accuracy: 0.9000 - val_loss: 0.3349 - val_accuracy: 0.8556\n",
            "Epoch 79/100\n",
            "23/23 [==============================] - 0s 3ms/step - loss: 0.2552 - accuracy: 0.9014 - val_loss: 0.3259 - val_accuracy: 0.8556\n",
            "Epoch 80/100\n",
            "23/23 [==============================] - 0s 4ms/step - loss: 0.2584 - accuracy: 0.9014 - val_loss: 0.3359 - val_accuracy: 0.8556\n",
            "Epoch 81/100\n",
            "23/23 [==============================] - 0s 3ms/step - loss: 0.2575 - accuracy: 0.9014 - val_loss: 0.3298 - val_accuracy: 0.8667\n",
            "Epoch 82/100\n",
            "23/23 [==============================] - 0s 3ms/step - loss: 0.2557 - accuracy: 0.9014 - val_loss: 0.3241 - val_accuracy: 0.8667\n",
            "Epoch 83/100\n",
            "23/23 [==============================] - 0s 4ms/step - loss: 0.2557 - accuracy: 0.9042 - val_loss: 0.3347 - val_accuracy: 0.8500\n",
            "Epoch 84/100\n",
            "23/23 [==============================] - 0s 3ms/step - loss: 0.2551 - accuracy: 0.9000 - val_loss: 0.3245 - val_accuracy: 0.8611\n",
            "Epoch 85/100\n",
            "23/23 [==============================] - 0s 5ms/step - loss: 0.2529 - accuracy: 0.9014 - val_loss: 0.3281 - val_accuracy: 0.8611\n",
            "Epoch 86/100\n",
            "23/23 [==============================] - 0s 4ms/step - loss: 0.2549 - accuracy: 0.9042 - val_loss: 0.3318 - val_accuracy: 0.8556\n",
            "Epoch 87/100\n",
            "23/23 [==============================] - 0s 4ms/step - loss: 0.2537 - accuracy: 0.8986 - val_loss: 0.3239 - val_accuracy: 0.8611\n",
            "Epoch 88/100\n",
            "23/23 [==============================] - 0s 4ms/step - loss: 0.2554 - accuracy: 0.9028 - val_loss: 0.3249 - val_accuracy: 0.8611\n",
            "Epoch 89/100\n",
            "23/23 [==============================] - 0s 4ms/step - loss: 0.2515 - accuracy: 0.9028 - val_loss: 0.3286 - val_accuracy: 0.8611\n",
            "Epoch 90/100\n",
            "23/23 [==============================] - 0s 4ms/step - loss: 0.2564 - accuracy: 0.8972 - val_loss: 0.3408 - val_accuracy: 0.8444\n",
            "Epoch 91/100\n",
            "23/23 [==============================] - 0s 4ms/step - loss: 0.2562 - accuracy: 0.9000 - val_loss: 0.3237 - val_accuracy: 0.8611\n",
            "Epoch 92/100\n",
            "23/23 [==============================] - 0s 4ms/step - loss: 0.2506 - accuracy: 0.9028 - val_loss: 0.3250 - val_accuracy: 0.8611\n",
            "Epoch 93/100\n",
            "23/23 [==============================] - 0s 4ms/step - loss: 0.2509 - accuracy: 0.9056 - val_loss: 0.3285 - val_accuracy: 0.8667\n",
            "Epoch 94/100\n",
            "23/23 [==============================] - 0s 3ms/step - loss: 0.2546 - accuracy: 0.9042 - val_loss: 0.3253 - val_accuracy: 0.8611\n",
            "Epoch 95/100\n",
            "23/23 [==============================] - 0s 3ms/step - loss: 0.2516 - accuracy: 0.8986 - val_loss: 0.3272 - val_accuracy: 0.8556\n",
            "Epoch 96/100\n",
            "23/23 [==============================] - 0s 4ms/step - loss: 0.2485 - accuracy: 0.9083 - val_loss: 0.3273 - val_accuracy: 0.8667\n",
            "Epoch 97/100\n",
            "23/23 [==============================] - 0s 3ms/step - loss: 0.2518 - accuracy: 0.9056 - val_loss: 0.3251 - val_accuracy: 0.8556\n",
            "Epoch 98/100\n",
            "23/23 [==============================] - 0s 3ms/step - loss: 0.2494 - accuracy: 0.9000 - val_loss: 0.3308 - val_accuracy: 0.8667\n",
            "Epoch 99/100\n",
            "23/23 [==============================] - 0s 4ms/step - loss: 0.2505 - accuracy: 0.9042 - val_loss: 0.3271 - val_accuracy: 0.8667\n",
            "Epoch 100/100\n",
            "23/23 [==============================] - 0s 4ms/step - loss: 0.2514 - accuracy: 0.9069 - val_loss: 0.3226 - val_accuracy: 0.8611\n"
          ]
        },
        {
          "output_type": "execute_result",
          "data": {
            "text/plain": [
              "<keras.src.callbacks.History at 0x7ae0ca7cecb0>"
            ]
          },
          "metadata": {},
          "execution_count": 197
        }
      ]
    },
    {
      "cell_type": "code",
      "source": [
        "y_pred_mlp = model.predict(X_test)\n",
        "y_pred_class = np.argmax(y_pred_mlp, axis=1)\n",
        "accuracy = accuracy_score(y_test.values.argmax(axis=1), y_pred_class)\n",
        "print(\"MLP Model Accuracy:\", accuracy)\n"
      ],
      "metadata": {
        "colab": {
          "base_uri": "https://localhost:8080/"
        },
        "id": "_8fVtiMBc-NG",
        "outputId": "c96ea0ee-701c-46e1-aba4-0af65dcfc589"
      },
      "execution_count": 199,
      "outputs": [
        {
          "output_type": "stream",
          "name": "stdout",
          "text": [
            "6/6 [==============================] - 0s 4ms/step\n",
            "MLP Model Accuracy: 0.8611111111111112\n"
          ]
        }
      ]
    },
    {
      "cell_type": "code",
      "source": [
        "y_score = model.predict_proba(X_test)[:, 1]\n",
        "from sklearn.preprocessing import label_binarize\n",
        "y_test_binary = label_binarize(y_test, classes=['Kecimen', 'Besni'])\n",
        "fpr, tpr, _ = roc_curve(y_test_binary, y_score)\n",
        "roc_auc = auc(fpr, tpr)"
      ],
      "metadata": {
        "id": "6Y-BhRkVuyxA"
      },
      "execution_count": null,
      "outputs": []
    },
    {
      "cell_type": "code",
      "source": [
        "plt.figure(figsize=(8, 6))\n",
        "plt.plot(fpr, tpr, color='darkorange', lw=2, label='ROC curve (AUC = %0.2f)' % roc_auc)\n",
        "plt.plot([0, 1], [0, 1], color='navy', lw=2, linestyle='--')\n",
        "plt.xlim([0.0, 1.0])\n",
        "plt.ylim([0.0, 1.05])\n",
        "plt.xlabel('False Positive Rate')\n",
        "plt.ylabel('True Positive Rate')\n",
        "plt.title('(ROC) Curve for MLP')\n",
        "plt.legend(loc=\"lower right\")\n",
        "plt.show()"
      ],
      "metadata": {
        "id": "m4hO_nYUq8Aq"
      },
      "execution_count": null,
      "outputs": []
    },
    {
      "cell_type": "markdown",
      "source": [
        "# **CONCLUSION**\n",
        "  - MULTI LAYER PERCEPTRON model and LINEAR Regression model has highest acuuracy of 0.86\n",
        "  - So for the given model of raisin classification, MLP and LR is appropriate algorithm.\n",
        "\n"
      ],
      "metadata": {
        "id": "7mkNuNEDu4BY"
      }
    }
  ]
}